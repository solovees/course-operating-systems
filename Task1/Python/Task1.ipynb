{
 "cells": [
  {
   "cell_type": "code",
   "execution_count": null,
   "metadata": {},
   "outputs": [
    {
     "name": "stdout",
     "output_type": "stream",
     "text": [
      "Последовательность: [7]\n",
      "Для полноты не хватает: []\n",
      "\n",
      "Последовательность: [7, 3]\n",
      "Для полноты не хватает: [4, 5, 6]\n",
      "\n",
      "Последовательность: [7, 3, 17]\n",
      "Для полноты не хватает: [4, 5, 6, 8, 9, 10, 11, 12, 13, 14, 15, 16]\n",
      "\n",
      "Последовательность: [7, 3, 17, 2]\n",
      "Для полноты не хватает: [4, 5, 6, 8, 9, 10, 11, 12, 13, 14, 15, 16]\n",
      "\n",
      "Последовательность: [7, 3, 17, 2, 12]\n",
      "Для полноты не хватает: [4, 5, 6, 8, 9, 10, 11, 13, 14, 15, 16]\n",
      "\n",
      "Последовательность: [7, 3, 17, 2, 12, 6]\n",
      "Для полноты не хватает: [4, 5, 8, 9, 10, 11, 13, 14, 15, 16]\n",
      "\n",
      "Последовательность: [7, 3, 17, 2, 12, 6, 1]\n",
      "Для полноты не хватает: [4, 5, 8, 9, 10, 11, 13, 14, 15, 16]\n",
      "\n",
      "Последовательность: [7, 3, 17, 2, 12, 6, 1, 8]\n",
      "Для полноты не хватает: [4, 5, 9, 10, 11, 13, 14, 15, 16]\n",
      "\n",
      "Последовательность: [7, 3, 17, 2, 12, 6, 1, 8, 10]\n",
      "Для полноты не хватает: [4, 5, 9, 11, 13, 14, 15, 16]\n",
      "\n",
      "Последовательность: [7, 3, 17, 2, 12, 6, 1, 8, 10, 11]\n",
      "Для полноты не хватает: [4, 5, 9, 13, 14, 15, 16]\n",
      "\n"
     ]
    }
   ],
   "source": [
    "#находит все числа из промежутка [minValue, maxValue] которых нет в lst\n",
    "def getMissingNumbers(minValue, maxValue, lst):\n",
    "    fullRange = list(map(lambda n: n+1, range(minValue, maxValue)))\n",
    "    return list(filter(lambda x: not x in lst, fullRange))\n",
    "\n",
    "#обработка файла \n",
    "def handleSequence(file):\n",
    "    currentList = []\n",
    "    minValue = 32000\n",
    "    maxValue = 0\n",
    "    for line in file:\n",
    "        line = int(line)\n",
    "        currentList.append(line)\n",
    "        if(line > maxValue):\n",
    "            maxValue = line\n",
    "        if(line < minValue):\n",
    "            minValue = line\n",
    "        print(\"Последовательность: \" + str(currentList))\n",
    "        print(\"Для полноты не хватает: \" + str(getMissingNumbers(minValue, maxValue, currentList)) + \"\\n\")\n",
    "        \n",
    "#файл с последовательностью чисел \n",
    "file = open('input.txt')\n",
    "handleSequence(file)"
   ]
  },
  {
   "cell_type": "code",
   "execution_count": null,
   "metadata": {},
   "outputs": [],
   "source": []
  },
  {
   "cell_type": "code",
   "execution_count": null,
   "metadata": {},
   "outputs": [],
   "source": []
  }
 ],
 "metadata": {
  "kernelspec": {
   "display_name": "Python 3",
   "language": "python",
   "name": "python3"
  },
  "language_info": {
   "codemirror_mode": {
    "name": "ipython",
    "version": 3
   },
   "file_extension": ".py",
   "mimetype": "text/x-python",
   "name": "python",
   "nbconvert_exporter": "python",
   "pygments_lexer": "ipython3",
   "version": "3.6.4"
  }
 },
 "nbformat": 4,
 "nbformat_minor": 2
}
